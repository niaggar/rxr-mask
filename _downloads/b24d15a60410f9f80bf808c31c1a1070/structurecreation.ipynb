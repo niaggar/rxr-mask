{
  "cells": [
    {
      "cell_type": "markdown",
      "metadata": {},
      "source": [
        "\n# Structure Creation Example\n\nThis example demonstrates how to create a structure with a single compound and a single atom.\n"
      ]
    },
    {
      "cell_type": "code",
      "execution_count": null,
      "metadata": {
        "collapsed": false
      },
      "outputs": [],
      "source": [
        "from rxrmask.core import Atom, Structure, FormFactorLocalDB, ParametersContainer\nfrom rxrmask.core import create_compound\n\n\nmn_ff = FormFactorLocalDB(element=\"Mn\", is_magnetic=False)\nmn_atom = Atom(\n    Z=25,\n    name=\"Mn\",\n    ff=mn_ff,\n)\n\nparameters_container = ParametersContainer()\ncomp = create_compound(\n    parameters_container=parameters_container,\n    name=\"Manganese\",\n    formula=\"Mn:1\",\n    thickness=50.0,\n    density=5.12,\n    atoms=[mn_atom],\n    roughness=0.0,\n)\n\nstruc = Structure(name=f\"Test Structure\", n_compounds=1, params_container=parameters_container)\nstruc.add_compound(0, comp)\nstruc.validate_compounds()\nstruc.create_layers(step=0.1)"
      ]
    }
  ],
  "metadata": {
    "kernelspec": {
      "display_name": "Python 3",
      "language": "python",
      "name": "python3"
    },
    "language_info": {
      "codemirror_mode": {
        "name": "ipython",
        "version": 3
      },
      "file_extension": ".py",
      "mimetype": "text/x-python",
      "name": "python",
      "nbconvert_exporter": "python",
      "pygments_lexer": "ipython3",
      "version": "3.13.5"
    }
  },
  "nbformat": 4,
  "nbformat_minor": 0
}