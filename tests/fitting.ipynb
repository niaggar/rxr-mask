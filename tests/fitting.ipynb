{
 "cells": [
  {
   "cell_type": "code",
   "execution_count": 1,
   "id": "80ed4e6b",
   "metadata": {},
   "outputs": [],
   "source": [
    "%load_ext autoreload\n",
    "%autoreload 2\n",
    "%reload_ext autoreload"
   ]
  },
  {
   "cell_type": "code",
   "execution_count": 2,
   "id": "eea6717b",
   "metadata": {},
   "outputs": [],
   "source": [
    "import numpy as np\n",
    "import time"
   ]
  },
  {
   "cell_type": "code",
   "execution_count": 3,
   "id": "3c7fe526",
   "metadata": {},
   "outputs": [],
   "source": [
    "from rxrmask.core import (\n",
    "    Atom,\n",
    "    Structure,\n",
    "    FormFactorLocalDB,\n",
    "    ParametersContainer,\n",
    "    FormFactorModel,\n",
    "    FormFactorVacancy,\n",
    "    ReflectivityData,\n",
    "    create_compound,\n",
    ")\n",
    "from rxrmask.utils import (\n",
    "    plot_reflectivity,\n",
    "    plot_energy_scan,\n",
    "    plot_density_profile,\n",
    "    get_density_profile_from_element_data,\n",
    ")\n",
    "from rxrmask.backends import (\n",
    "    PRReflectivityBackend,\n",
    "    PRParallelReflectivityBackend,\n",
    ")\n",
    "from rxrmask.optimization import (\n",
    "    RXRModel,\n",
    "    RXRFitter,\n",
    "    NelderMeadOptimizer,\n",
    ")"
   ]
  },
  {
   "cell_type": "code",
   "execution_count": 7,
   "id": "f4d7c6d2",
   "metadata": {},
   "outputs": [],
   "source": [
    "def set_compound_params(structure: Structure, fit: bool):\n",
    "    for compound in structure.compounds:\n",
    "        compound.thickness.fit = fit\n",
    "        compound.roughness.fit = fit\n",
    "        compound.prev_roughness.fit = fit\n",
    "        compound.density.fit = fit\n",
    "        compound.magnetic_density.fit = fit"
   ]
  },
  {
   "cell_type": "code",
   "execution_count": 4,
   "id": "28941852",
   "metadata": {},
   "outputs": [
    {
     "name": "stdout",
     "output_type": "stream",
     "text": [
      "Warning: Atom name 'X1' is a placeholder. Atomic mass set to 0.0.\n",
      "Warning: Atom name 'X2' is a placeholder. Atomic mass set to 0.0.\n"
     ]
    }
   ],
   "source": [
    "mn_ff = FormFactorLocalDB(element=\"Mn\", is_magnetic=False)\n",
    "o_ff = FormFactorLocalDB(element=\"O\", is_magnetic=False)\n",
    "sr_ff = FormFactorLocalDB(element=\"Sr\", is_magnetic=False)\n",
    "ti_ff = FormFactorLocalDB(element=\"Ti\", is_magnetic=False)\n",
    "c_ff = FormFactorLocalDB(element=\"C\", is_magnetic=False)\n",
    "la_ff = FormFactorLocalDB(element=\"La\", is_magnetic=False)\n",
    "\n",
    "la_atom = Atom(\n",
    "    Z=57,\n",
    "    name=\"La\",\n",
    "    ff=la_ff,\n",
    ")\n",
    "mn_atom = Atom(\n",
    "    Z=25,\n",
    "    name=\"Mn\",\n",
    "    ff=mn_ff,\n",
    ")\n",
    "o_atom = Atom(\n",
    "    Z=8,\n",
    "    name=\"O\",\n",
    "    ff=o_ff,\n",
    ")\n",
    "sr_atom = Atom(\n",
    "    Z=38,\n",
    "    name=\"Sr\",\n",
    "    ff=sr_ff,\n",
    ")\n",
    "ti_atom = Atom(\n",
    "    Z=22,\n",
    "    name=\"Ti\",\n",
    "    ff=ti_ff,\n",
    ")\n",
    "c_atom = Atom(\n",
    "    Z=6,\n",
    "    name=\"C\",\n",
    "    ff=c_ff,\n",
    ")\n",
    "x1_atom = Atom(\n",
    "    Z=0,\n",
    "    name=\"X1\",\n",
    "    ff=c_ff,\n",
    ")\n",
    "x2_atom = Atom(\n",
    "    Z=0,\n",
    "    name=\"X2\",\n",
    "    ff=c_ff,\n",
    ")"
   ]
  },
  {
   "cell_type": "code",
   "execution_count": 9,
   "id": "34ebd93e",
   "metadata": {},
   "outputs": [],
   "source": [
    "parameters_container = ParametersContainer()\n",
    "\n",
    "comp_SrTiO3 = create_compound(\n",
    "    parameters_container=parameters_container,\n",
    "    name=\"SrTiO3\",\n",
    "    formula=\"Sr:1,Ti:1,O:3\",\n",
    "    thickness=50.0,\n",
    "    density=5.12,\n",
    "    atoms=[sr_atom, ti_atom, o_atom],\n",
    "    roughness=0.0,\n",
    "    prev_roughness=0.0,\n",
    "    linked_prev_roughness=False,\n",
    ")\n",
    "comp_LaMnO3 = create_compound(\n",
    "    parameters_container=parameters_container,\n",
    "    name=\"LaMnO3\",\n",
    "    formula=\"La:1,Mn:1,O:3\",\n",
    "    thickness=10.0,\n",
    "    density=6.52,\n",
    "    atoms=[la_atom, mn_atom, o_atom],\n",
    "    roughness=4.0,\n",
    "    prev_roughness=0.0,\n",
    "    linked_prev_roughness=False,\n",
    ")\n",
    "comp_CCO = create_compound(\n",
    "    parameters_container=parameters_container,\n",
    "    name=\"CO2\",\n",
    "    formula=\"X1:1,X2:1,O:2\",\n",
    "    thickness=10.0,\n",
    "    density=5.0,\n",
    "    atoms=[x1_atom, x2_atom, o_atom],\n",
    "    roughness=4.0,\n",
    "    prev_roughness=0.0,\n",
    "    linked_prev_roughness=True,\n",
    ")\n",
    "\n",
    "struc = Structure(name=f\"Test Structure\", n_compounds=3, params_container=parameters_container)\n",
    "struc.add_compound(0, comp_SrTiO3)\n",
    "struc.add_compound(1, comp_LaMnO3)\n",
    "struc.add_compound(2, comp_CCO)\n",
    "struc.validate_compounds()\n",
    "struc.create_layers(step=0.1)\n",
    "\n",
    "model = RXRModel(structure=struc, parameters_container=parameters_container)\n",
    "set_compound_params(model.structure, fit=True)"
   ]
  },
  {
   "cell_type": "code",
   "execution_count": 10,
   "id": "35d85b5c",
   "metadata": {},
   "outputs": [
    {
     "name": "stdout",
     "output_type": "stream",
     "text": [
      "Initial parameters: [50.0, 5.12, 0.0, 0.0, 0.0, 10.0, 6.52, 0.0, 4.0, 0.0, 10.0, 5.0, 0.0, 4.0, 1.0, 0.0]\n",
      "SrTiO3-thickness: 50.0\n",
      "SrTiO3-density: 5.12\n",
      "SrTiO3-magnetic_density: 0.0\n",
      "SrTiO3-roughness: 0.0\n",
      "SrTiO3-prev_roughness: 0.0\n",
      "LaMnO3-thickness: 10.0\n",
      "LaMnO3-density: 6.52\n",
      "LaMnO3-magnetic_density: 0.0\n",
      "LaMnO3-roughness: 4.0\n",
      "LaMnO3-prev_roughness: 0.0\n",
      "CO2-thickness: 10.0\n",
      "CO2-density: 5.0\n",
      "CO2-magnetic_density: 0.0\n",
      "CO2-roughness: 4.0\n",
      "R_scale: 1.0\n",
      "R_offset: 0.0\n"
     ]
    }
   ],
   "source": [
    "init_params = model.parameters_container.get_fit_vector()\n",
    "print(f\"Initial parameters: {init_params}\")\n",
    "for param in model.parameters_container.parameters:\n",
    "    if param.fit:\n",
    "        print(f\"{param.name}: {param.value}\")"
   ]
  },
  {
   "cell_type": "markdown",
   "id": "d2c9bac3",
   "metadata": {},
   "source": [
    "# EXAPLE DATA TO FIT\n",
    "Initial parameters: [50.0, 5.12, 0.0, 0.0, 0.0, 10.0, 6.52, 0.0, 4.0, 0.0, 10.0, 5.0, 0.0, 4.0, 1.0, 0.0]\n",
    "SrTiO3-thickness: 50.0\n",
    "SrTiO3-density: 5.12\n",
    "SrTiO3-magnetic_density: 0.0\n",
    "SrTiO3-roughness: 0.0\n",
    "SrTiO3-prev_roughness: 0.0\n",
    "LaMnO3-thickness: 10.0\n",
    "LaMnO3-density: 6.52\n",
    "LaMnO3-magnetic_density: 0.0\n",
    "LaMnO3-roughness: 4.0\n",
    "LaMnO3-prev_roughness: 0.0\n",
    "CO2-thickness: 10.0\n",
    "CO2-density: 5.0\n",
    "CO2-magnetic_density: 0.0\n",
    "CO2-roughness: 4.0\n",
    "R_scale: 1.0\n",
    "R_offset: 0.0"
   ]
  },
  {
   "cell_type": "code",
   "execution_count": 11,
   "id": "3c9e9b9d",
   "metadata": {},
   "outputs": [],
   "source": [
    "backend = PRReflectivityBackend()\n",
    "model.set_reflectivity_backend(backend)\n",
    "\n",
    "E_eV = 600\n",
    "Theta = np.linspace(0.1, 89.1, num=1001)\n",
    "qz = np.sin(Theta * np.pi / 180) * (E_eV * 0.001013546143)"
   ]
  },
  {
   "cell_type": "code",
   "execution_count": null,
   "id": "e5939865",
   "metadata": {},
   "outputs": [],
   "source": [
    "data = model.compute_reflectivity(qz, E_eV)\n"
   ]
  },
  {
   "cell_type": "code",
   "execution_count": 10,
   "id": "3e1c03f4",
   "metadata": {},
   "outputs": [],
   "source": [
    "file_path = \"/Users/niaggar/Developer/mitacs/reflectivity_test_data.txt\"\n",
    "data = np.loadtxt(file_path)\n",
    "qz, R_Sgo, R_Pgo = data.T\n",
    "\n",
    "experimental_data = ReflectivityData()\n",
    "experimental_data.energy = 600\n",
    "experimental_data.qz = qz\n",
    "experimental_data.R_s = np.log(R_Sgo)\n",
    "experimental_data.R_p = np.log(R_Pgo)"
   ]
  },
  {
   "cell_type": "code",
   "execution_count": 12,
   "id": "db7921fd",
   "metadata": {},
   "outputs": [],
   "source": [
    "set_compound_params(model.structure, fit=True)\n",
    "\n",
    "optimizer = NelderMeadOptimizer()\n",
    "fitter = RXRFitter(model, experimental_data, optimizer)"
   ]
  }
 ],
 "metadata": {
  "kernelspec": {
   "display_name": ".venv",
   "language": "python",
   "name": "python3"
  },
  "language_info": {
   "codemirror_mode": {
    "name": "ipython",
    "version": 3
   },
   "file_extension": ".py",
   "mimetype": "text/x-python",
   "name": "python",
   "nbconvert_exporter": "python",
   "pygments_lexer": "ipython3",
   "version": "3.13.5"
  }
 },
 "nbformat": 4,
 "nbformat_minor": 5
}
