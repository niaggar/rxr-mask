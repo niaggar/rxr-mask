{
 "cells": [
  {
   "cell_type": "code",
   "execution_count": 1,
   "id": "80ed4e6b",
   "metadata": {},
   "outputs": [],
   "source": [
    "%load_ext autoreload\n",
    "%autoreload 2\n",
    "%reload_ext autoreload"
   ]
  },
  {
   "cell_type": "code",
   "execution_count": 2,
   "id": "eea6717b",
   "metadata": {},
   "outputs": [],
   "source": [
    "from matplotlib import pyplot as plt\n",
    "import numpy as np\n",
    "import time"
   ]
  },
  {
   "cell_type": "code",
   "execution_count": 3,
   "id": "3c7fe526",
   "metadata": {},
   "outputs": [],
   "source": [
    "from rxrmask.core import (\n",
    "    Atom,\n",
    "    Structure,\n",
    "    FormFactorLocalDB,\n",
    "    ParametersContainer,\n",
    "    FormFactorModel,\n",
    "    FormFactorVacancy,\n",
    "    create_compound,\n",
    ")\n",
    "from rxrmask.utils import (\n",
    "    plot_reflectivity,\n",
    "    plot_energy_scan,\n",
    "    plot_density_profile,\n",
    "    get_density_profile_from_element_data,\n",
    "    plot_density_profile_atoms_layers,\n",
    ")\n",
    "from rxrmask.backends import (\n",
    "    PRReflectivityBackend,\n",
    "    PRParallelReflectivityBackend,\n",
    ")"
   ]
  },
  {
   "cell_type": "code",
   "execution_count": 4,
   "id": "28941852",
   "metadata": {},
   "outputs": [
    {
     "name": "stdout",
     "output_type": "stream",
     "text": [
      "Warning: Atom name 'X1' is a placeholder. Atomic mass set to 0.0.\n",
      "Warning: Atom name 'X2' is a placeholder. Atomic mass set to 0.0.\n"
     ]
    }
   ],
   "source": [
    "mn_ff = FormFactorLocalDB(element=\"Mn\", is_magnetic=False)\n",
    "o_ff = FormFactorLocalDB(element=\"O\", is_magnetic=False)\n",
    "sr_ff = FormFactorLocalDB(element=\"Sr\", is_magnetic=False)\n",
    "ti_ff = FormFactorLocalDB(element=\"Ti\", is_magnetic=False)\n",
    "c_ff = FormFactorLocalDB(element=\"C\", is_magnetic=False)\n",
    "la_ff = FormFactorLocalDB(element=\"La\", is_magnetic=False)\n",
    "la_atom = Atom(\n",
    "    Z=57,\n",
    "    name=\"La\",\n",
    "    ff=la_ff,\n",
    ")\n",
    "mn_atom = Atom(\n",
    "    Z=25,\n",
    "    name=\"Mn\",\n",
    "    ff=mn_ff,\n",
    ")\n",
    "o_atom = Atom(\n",
    "    Z=8,\n",
    "    name=\"O\",\n",
    "    ff=o_ff,\n",
    ")\n",
    "sr_atom = Atom(\n",
    "    Z=38,\n",
    "    name=\"Sr\",\n",
    "    ff=sr_ff,\n",
    ")\n",
    "ti_atom = Atom(\n",
    "    Z=22,\n",
    "    name=\"Ti\",\n",
    "    ff=ti_ff,\n",
    ")\n",
    "c_atom = Atom(\n",
    "    Z=6,\n",
    "    name=\"C\",\n",
    "    ff=c_ff,\n",
    ")\n",
    "x1_atom = Atom(\n",
    "    Z=0,\n",
    "    name=\"X1\",\n",
    "    ff=c_ff,\n",
    ")\n",
    "x2_atom = Atom(\n",
    "    Z=0,\n",
    "    name=\"X2\",\n",
    "    ff=c_ff,\n",
    ")"
   ]
  },
  {
   "cell_type": "code",
   "execution_count": 29,
   "id": "34ebd93e",
   "metadata": {},
   "outputs": [
    {
     "name": "stdout",
     "output_type": "stream",
     "text": [
      "DependentParameter(value=1.0, id=29, name='LaMnO3-La-prev_roughness', lower=0.0, upper=0.2, fit=False, independent=True, depends_on=DependentParameter(value=5.0, id=8, name='SrTiO3-Sr-roughness', lower=4.0, upper=6.0, fit=False, independent=False, depends_on=Parameter(value=5.0, id=3, name='SrTiO3-roughness', lower=4.0, upper=6.0, fit=False), update_func=None), update_func=None)\n"
     ]
    }
   ],
   "source": [
    "parameters_container = ParametersContainer()\n",
    "comp_SrTiO3 = create_compound(\n",
    "    parameters_container=parameters_container,\n",
    "    name=\"SrTiO3\",\n",
    "    formula=\"Sr:1,Ti:1,O:3\",\n",
    "    thickness=50.0,\n",
    "    density=5.12,\n",
    "    atoms=[sr_atom, ti_atom, o_atom],\n",
    "    roughness=5.0,\n",
    "    prev_roughness=0.0,\n",
    "    linked_prev_roughness=False,\n",
    ")\n",
    "comp_LaMnO3 = create_compound(\n",
    "    parameters_container=parameters_container,\n",
    "    name=\"LaMnO3\",\n",
    "    formula=\"La:1,Mn:1,O:3\",\n",
    "    thickness=10.0,\n",
    "    density=6.52,\n",
    "    atoms=[la_atom, mn_atom, o_atom],\n",
    "    roughness=4.0,\n",
    "    prev_roughness=0.0,\n",
    "    linked_prev_roughness=True,\n",
    ")\n",
    "\n",
    "\n",
    "struc = Structure(name=f\"Test Structure\", n_compounds=2, params_container=parameters_container)\n",
    "struc.add_compound(0, comp_SrTiO3)\n",
    "struc.add_compound(1, comp_LaMnO3)\n",
    "struc.validate_compounds()\n",
    "struc.create_layers(step=0.1)\n",
    "\n",
    "\n",
    "comp_LaMnO3.compound_details[0].molar_density.independent = True\n",
    "comp_LaMnO3.compound_details[0].molar_density.set(0.1)\n",
    "\n",
    "comp_LaMnO3.compound_details[0].thickness.independent = True\n",
    "comp_LaMnO3.compound_details[0].thickness.set(15.0)\n",
    "\n",
    "comp_LaMnO3.compound_details[0].prev_roughness.independent = True\n",
    "comp_LaMnO3.compound_details[0].prev_roughness.set(1.0)\n",
    "\n",
    "struc.update_layers()\n",
    "\n",
    "print(comp_LaMnO3.compound_details[0].prev_roughness)\n"
   ]
  },
  {
   "cell_type": "code",
   "execution_count": 30,
   "id": "c35c0a07",
   "metadata": {},
   "outputs": [
    {
     "name": "stdout",
     "output_type": "stream",
     "text": [
      "Structure: Test Structure\n",
      "Number of compounds: 2\n",
      "Number of layers: 750\n",
      "Compound 0: SrTiO3\n",
      "  Thickness: Parameter(value=50.0, id=0, name='SrTiO3-thickness', lower=40.0, upper=60.0, fit=False) Angstrom\n",
      "  Density: Parameter(value=5.12, id=1, name='SrTiO3-density', lower=4.096, upper=6.144, fit=False) g/cm³\n",
      "  Magnetic Density: Parameter(value=0.0, id=2, name='SrTiO3-magnetic_density', lower=0.0, upper=0.2, fit=False) mol/cm³\n",
      "  Roughness: Parameter(value=5.0, id=3, name='SrTiO3-roughness', lower=4.0, upper=6.0, fit=False) Angstrom\n",
      "  Previous Roughness: DependentParameter(value=0.0, id=4, name='SrTiO3-prev_roughness', lower=0.0, upper=0.2, fit=False, independent=True, depends_on=None, update_func=None) Angstrom\n",
      "Compound 1: LaMnO3\n",
      "  Thickness: Parameter(value=10.0, id=20, name='LaMnO3-thickness', lower=8.0, upper=12.0, fit=False) Angstrom\n",
      "  Density: Parameter(value=6.52, id=21, name='LaMnO3-density', lower=5.216, upper=7.823999999999999, fit=False) g/cm³\n",
      "  Magnetic Density: Parameter(value=0.0, id=22, name='LaMnO3-magnetic_density', lower=0.0, upper=0.2, fit=False) mol/cm³\n",
      "  Roughness: Parameter(value=4.0, id=23, name='LaMnO3-roughness', lower=3.2, upper=4.8, fit=False) Angstrom\n",
      "  Previous Roughness: DependentParameter(value=0.0, id=24, name='LaMnO3-prev_roughness', lower=0.0, upper=0.2, fit=False, independent=False, depends_on=Parameter(value=5.0, id=3, name='SrTiO3-roughness', lower=4.0, upper=6.0, fit=False), update_func=None) Angstrom\n"
     ]
    }
   ],
   "source": [
    "struc.print_details()"
   ]
  },
  {
   "cell_type": "code",
   "execution_count": 27,
   "id": "ea3c3f5f",
   "metadata": {},
   "outputs": [
    {
     "name": "stdout",
     "output_type": "stream",
     "text": [
      "Compound: SrTiO3\n",
      "  Formula: Sr:1,Ti:1,O:3\n",
      "  Thickness: 50.0 Angstrom\n",
      "  Density: 5.12 g/cm³\n",
      "  Magnetic Density: 0.0 g/cm³\n",
      "  Roughness: 5.0 Angstrom\n",
      "  Previous Roughness: 0.0 Angstrom\n",
      "  Linked Previous Roughness: False\n",
      "  Magnetic: No\n",
      "  Detail - 0: Sr - 1 50.0 Angstrom 5.0 Angstrom 0.0 Angstrom 0.027899140248760067 mol/cm³ 0.0 mol/cm³\n",
      "  Detail - 1: Ti - 1 50.0 Angstrom 5.0 Angstrom 0.0 Angstrom 0.027899140248760067 mol/cm³ 0.0 mol/cm³\n",
      "  Detail - 2: O - 3 50.0 Angstrom 5.0 Angstrom 0.0 Angstrom 0.0836974207462802 mol/cm³ 0.0 mol/cm³\n",
      "Compound: LaMnO3\n",
      "  Formula: La:1,Mn:1,O:3\n",
      "  Thickness: 10.0 Angstrom\n",
      "  Density: 6.52 g/cm³\n",
      "  Magnetic Density: 0.0 g/cm³\n",
      "  Roughness: 4.0 Angstrom\n",
      "  Previous Roughness: 5.0 Angstrom\n",
      "  Linked Previous Roughness: True\n",
      "  Magnetic: No\n",
      "  Detail - 0: La - 1 15.0 Angstrom 4.0 Angstrom 1.0 Angstrom 0.91 mol/cm³ 0.0 mol/cm³\n",
      "  Detail - 1: Mn - 1 10.0 Angstrom 4.0 Angstrom 5.0 Angstrom 0.026959784024012397 mol/cm³ 0.0 mol/cm³\n",
      "  Detail - 2: O - 3 10.0 Angstrom 4.0 Angstrom 5.0 Angstrom 0.0808793520720372 mol/cm³ 0.0 mol/cm³\n"
     ]
    }
   ],
   "source": [
    "comp_SrTiO3.print_details()\n",
    "comp_LaMnO3.print_details()"
   ]
  },
  {
   "cell_type": "code",
   "execution_count": 31,
   "id": "4c0a1f52",
   "metadata": {},
   "outputs": [
    {
     "data": {
      "image/png": "[encoded data removed]",
      "text/plain": [
       "<Figure size 1000x400 with 1 Axes>"
      ]
     },
     "metadata": {},
     "output_type": "display_data"
    }
   ],
   "source": [
    "plot_density_profile_atoms_layers(struc.atoms_layers)"
   ]
  }
 ],
 "metadata": {
  "kernelspec": {
   "display_name": ".venv",
   "language": "python",
   "name": "python3"
  },
  "language_info": {
   "codemirror_mode": {
    "name": "ipython",
    "version": 3
   },
   "file_extension": ".py",
   "mimetype": "text/x-python",
   "name": "python",
   "nbconvert_exporter": "python",
   "pygments_lexer": "ipython3",
   "version": "3.13.6"
  }
 },
 "nbformat": 4,
 "nbformat_minor": 5
}
